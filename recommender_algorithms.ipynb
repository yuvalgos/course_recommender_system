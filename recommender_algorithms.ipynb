{
  "nbformat": 4,
  "nbformat_minor": 0,
  "metadata": {
    "colab": {
      "name": "recommender-algorithms.ipynb",
      "provenance": [],
      "collapsed_sections": [
        "d5-CUTeQdyvQ",
        "sp-43O5KeGMA",
        "8zdBlzYFePcN",
        "XwVOfvGfOgJu",
        "lLKbhu8e7Vuq",
        "DWGxb5N6Mgtu"
      ],
      "toc_visible": true,
      "authorship_tag": "ABX9TyOyevF8PkNfj3afzu97eFnH"
    },
    "kernelspec": {
      "name": "python3",
      "display_name": "Python 3"
    }
  },
  "cells": [
    {
      "cell_type": "markdown",
      "metadata": {
        "id": "d5-CUTeQdyvQ"
      },
      "source": [
        "# Ratings Data Set\n",
        "The data was collected from technion course recommender site. Each row represent a rating for a course by one student, and that rating is divided into workload an difficuly of the course. Both ratings for workload and difficuly are deom 1 to 10, while in the instruction students are encouraged to use all of the scale, we will check how they did later. \n",
        " \n",
        "The dataset ia expected to be sparce since there are studenta from different facultys, and there are more then 1,000 courses, most of them are not rated."
      ]
    },
    {
      "cell_type": "markdown",
      "metadata": {
        "id": "sp-43O5KeGMA"
      },
      "source": [
        "# Loading The Data"
      ]
    },
    {
      "cell_type": "code",
      "metadata": {
        "colab": {
          "base_uri": "https://localhost:8080/",
          "height": 0
        },
        "id": "8vMdxs0IbydC",
        "outputId": "28211ca6-5be7-43e5-9720-c3b74df9bbe4"
      },
      "source": [
        "import pandas as pd \r\n",
        "import numpy as np\r\n",
        "import matplotlib.pyplot as plt\r\n",
        "plt.rcParams[\"figure.figsize\"] = [10, 5]\r\n",
        "ratings = pd.read_csv('https://raw.githubusercontent.com/yuvalgos/course_recommender_system/master/data_pool/ratings_data_2021feb24.csv')\r\n",
        "ratings.sample(5)"
      ],
      "execution_count": 78,
      "outputs": [
        {
          "output_type": "execute_result",
          "data": {
            "text/html": [
              "<div>\n",
              "<style scoped>\n",
              "    .dataframe tbody tr th:only-of-type {\n",
              "        vertical-align: middle;\n",
              "    }\n",
              "\n",
              "    .dataframe tbody tr th {\n",
              "        vertical-align: top;\n",
              "    }\n",
              "\n",
              "    .dataframe thead th {\n",
              "        text-align: right;\n",
              "    }\n",
              "</style>\n",
              "<table border=\"1\" class=\"dataframe\">\n",
              "  <thead>\n",
              "    <tr style=\"text-align: right;\">\n",
              "      <th></th>\n",
              "      <th>id</th>\n",
              "      <th>user</th>\n",
              "      <th>course</th>\n",
              "      <th>difficulty</th>\n",
              "      <th>workload</th>\n",
              "      <th>final_grade</th>\n",
              "      <th>semesters_taken</th>\n",
              "      <th>created_at</th>\n",
              "      <th>updated_at</th>\n",
              "    </tr>\n",
              "  </thead>\n",
              "  <tbody>\n",
              "    <tr>\n",
              "      <th>585</th>\n",
              "      <td>614</td>\n",
              "      <td>63</td>\n",
              "      <td>315030</td>\n",
              "      <td>7.5</td>\n",
              "      <td>4.5</td>\n",
              "      <td>93.0</td>\n",
              "      <td>NaN</td>\n",
              "      <td>2021-01-04 15:33:27.724168+00:00</td>\n",
              "      <td>2021-01-04 15:33:27.724218+00:00</td>\n",
              "    </tr>\n",
              "    <tr>\n",
              "      <th>457</th>\n",
              "      <td>487</td>\n",
              "      <td>55</td>\n",
              "      <td>324397</td>\n",
              "      <td>1.5</td>\n",
              "      <td>1.0</td>\n",
              "      <td>NaN</td>\n",
              "      <td>NaN</td>\n",
              "      <td>2021-01-04 11:28:38.770355+00:00</td>\n",
              "      <td>2021-01-04 11:30:17.330960+00:00</td>\n",
              "    </tr>\n",
              "    <tr>\n",
              "      <th>461</th>\n",
              "      <td>501</td>\n",
              "      <td>53</td>\n",
              "      <td>335009</td>\n",
              "      <td>6.0</td>\n",
              "      <td>2.5</td>\n",
              "      <td>NaN</td>\n",
              "      <td>NaN</td>\n",
              "      <td>2021-01-04 11:31:28.518970+00:00</td>\n",
              "      <td>2021-01-04 11:31:28.519011+00:00</td>\n",
              "    </tr>\n",
              "    <tr>\n",
              "      <th>340</th>\n",
              "      <td>368</td>\n",
              "      <td>39</td>\n",
              "      <td>324983</td>\n",
              "      <td>2.0</td>\n",
              "      <td>1.0</td>\n",
              "      <td>97.0</td>\n",
              "      <td>NaN</td>\n",
              "      <td>2020-11-10 13:49:54.260994+00:00</td>\n",
              "      <td>2020-11-10 13:49:54.261027+00:00</td>\n",
              "    </tr>\n",
              "    <tr>\n",
              "      <th>567</th>\n",
              "      <td>596</td>\n",
              "      <td>67</td>\n",
              "      <td>234247</td>\n",
              "      <td>9.5</td>\n",
              "      <td>7.0</td>\n",
              "      <td>82.0</td>\n",
              "      <td>NaN</td>\n",
              "      <td>2021-01-04 14:57:32.886867+00:00</td>\n",
              "      <td>2021-01-04 14:57:32.886912+00:00</td>\n",
              "    </tr>\n",
              "  </tbody>\n",
              "</table>\n",
              "</div>"
            ],
            "text/plain": [
              "      id  ...                        updated_at\n",
              "585  614  ...  2021-01-04 15:33:27.724218+00:00\n",
              "457  487  ...  2021-01-04 11:30:17.330960+00:00\n",
              "461  501  ...  2021-01-04 11:31:28.519011+00:00\n",
              "340  368  ...  2020-11-10 13:49:54.261027+00:00\n",
              "567  596  ...  2021-01-04 14:57:32.886912+00:00\n",
              "\n",
              "[5 rows x 9 columns]"
            ]
          },
          "metadata": {
            "tags": []
          },
          "execution_count": 78
        }
      ]
    },
    {
      "cell_type": "markdown",
      "metadata": {
        "id": "Z2feClgndPra"
      },
      "source": [
        "We will only use the four leftest fields because all the other fields are not mandatory or irrelevant. Some of the other fields may be in use in the future."
      ]
    },
    {
      "cell_type": "code",
      "metadata": {
        "colab": {
          "base_uri": "https://localhost:8080/",
          "height": 0
        },
        "id": "FN3shiH0VuG3",
        "outputId": "e9c7760c-4710-42f4-db67-ec72dd951a8c"
      },
      "source": [
        "ratings_diff = ratings[[\"user\", \"course\", \"difficulty\"]]\n",
        "ratings_wl = ratings[[\"user\", \"course\", \"workload\"]]\n",
        "ratings_combined = ratings[[\"user\", \"course\", \"difficulty\", \"workload\"]]\n",
        " \n",
        "ratings_combined.sample(5)"
      ],
      "execution_count": 79,
      "outputs": [
        {
          "output_type": "execute_result",
          "data": {
            "text/html": [
              "<div>\n",
              "<style scoped>\n",
              "    .dataframe tbody tr th:only-of-type {\n",
              "        vertical-align: middle;\n",
              "    }\n",
              "\n",
              "    .dataframe tbody tr th {\n",
              "        vertical-align: top;\n",
              "    }\n",
              "\n",
              "    .dataframe thead th {\n",
              "        text-align: right;\n",
              "    }\n",
              "</style>\n",
              "<table border=\"1\" class=\"dataframe\">\n",
              "  <thead>\n",
              "    <tr style=\"text-align: right;\">\n",
              "      <th></th>\n",
              "      <th>user</th>\n",
              "      <th>course</th>\n",
              "      <th>difficulty</th>\n",
              "      <th>workload</th>\n",
              "    </tr>\n",
              "  </thead>\n",
              "  <tbody>\n",
              "    <tr>\n",
              "      <th>480</th>\n",
              "      <td>53</td>\n",
              "      <td>337403</td>\n",
              "      <td>5.0</td>\n",
              "      <td>1.5</td>\n",
              "    </tr>\n",
              "    <tr>\n",
              "      <th>417</th>\n",
              "      <td>42</td>\n",
              "      <td>234118</td>\n",
              "      <td>4.5</td>\n",
              "      <td>7.5</td>\n",
              "    </tr>\n",
              "    <tr>\n",
              "      <th>514</th>\n",
              "      <td>57</td>\n",
              "      <td>234218</td>\n",
              "      <td>6.5</td>\n",
              "      <td>8.0</td>\n",
              "    </tr>\n",
              "    <tr>\n",
              "      <th>353</th>\n",
              "      <td>39</td>\n",
              "      <td>236343</td>\n",
              "      <td>6.0</td>\n",
              "      <td>5.0</td>\n",
              "    </tr>\n",
              "    <tr>\n",
              "      <th>296</th>\n",
              "      <td>37</td>\n",
              "      <td>236001</td>\n",
              "      <td>2.0</td>\n",
              "      <td>3.0</td>\n",
              "    </tr>\n",
              "  </tbody>\n",
              "</table>\n",
              "</div>"
            ],
            "text/plain": [
              "     user  course  difficulty  workload\n",
              "480    53  337403         5.0       1.5\n",
              "417    42  234118         4.5       7.5\n",
              "514    57  234218         6.5       8.0\n",
              "353    39  236343         6.0       5.0\n",
              "296    37  236001         2.0       3.0"
            ]
          },
          "metadata": {
            "tags": []
          },
          "execution_count": 79
        }
      ]
    },
    {
      "cell_type": "markdown",
      "metadata": {
        "id": "3Nb40Ta8eM4x"
      },
      "source": [
        "# Inital Analysis And Visualization"
      ]
    },
    {
      "cell_type": "markdown",
      "metadata": {
        "id": "8zdBlzYFePcN"
      },
      "source": [
        "## Inital Information"
      ]
    },
    {
      "cell_type": "code",
      "metadata": {
        "colab": {
          "base_uri": "https://localhost:8080/"
        },
        "id": "J990TFHyfyoT",
        "outputId": "a2ffbefe-8947-42ee-d0f6-b9312e2f8035"
      },
      "source": [
        "users_counts = ratings_diff[\"user\"].value_counts()\n",
        "courses_counts = ratings_diff[\"course\"].value_counts()\n",
        "print(\"number of ratings:\", len(ratings_diff[\"user\"]))\n",
        "print(\"number of courses rated:\", len(courses_counts))\n",
        "print(\"number of students with ratings:\", len(users_counts))\n",
        "print()\n",
        " \n",
        "print(\"mean difficulty:\", ratings_diff[\"difficulty\"].mean())\n",
        "print(\"mean workload:\", ratings_wl[\"workload\"].mean())"
      ],
      "execution_count": 80,
      "outputs": [
        {
          "output_type": "stream",
          "text": [
            "number of ratings: 744\n",
            "number of courses rated: 248\n",
            "number of students with ratings: 59\n",
            "\n",
            "mean difficulty: 6.084677419354839\n",
            "mean workload: 5.606854838709677\n"
          ],
          "name": "stdout"
        }
      ]
    },
    {
      "cell_type": "markdown",
      "metadata": {
        "id": "BrqOXcfP9pht"
      },
      "source": [
        "## Courses"
      ]
    },
    {
      "cell_type": "markdown",
      "metadata": {
        "id": "SbHp2VFze7Ep"
      },
      "source": [
        "### Ratings Count"
      ]
    },
    {
      "cell_type": "code",
      "metadata": {
        "colab": {
          "base_uri": "https://localhost:8080/",
          "height": 378
        },
        "id": "Rbn7m6e393ff",
        "outputId": "9dc40456-f245-4f7d-f255-f14e4afe37a3"
      },
      "source": [
        "ax = courses_counts.iloc[0:20].plot.bar(title=\"20 Most Rated Courses\",\r\n",
        "                                        xlabel=\"course\",\r\n",
        "                                        ylabel=\"ratings\",)"
      ],
      "execution_count": 81,
      "outputs": [
        {
          "output_type": "display_data",
          "data": {
            "image/png": "[encoded data removed]",
            "text/plain": [
              "<Figure size 720x360 with 1 Axes>"
            ]
          },
          "metadata": {
            "tags": [],
            "needs_background": "light"
          }
        }
      ]
    },
    {
      "cell_type": "code",
      "metadata": {
        "colab": {
          "base_uri": "https://localhost:8080/",
          "height": 408
        },
        "id": "tDt40T6abE5t",
        "outputId": "90b7695b-10c3-422e-9ecc-2040505a6cad"
      },
      "source": [
        "ax = courses_counts.plot.hist(bins=courses_counts.max(),\n",
        "                              title=\"Rating Amount Histogram\",)\n",
        "ax.set_xlabel(\"number of ratings\")\n",
        "ax.set_ylabel(\"number of courses\")\n",
        " \n",
        "print(\"amount of courses with more then 2 ratings:\",\n",
        "      (courses_counts[courses_counts > 2]).count())\n",
        "print(\"amount of courses with more then 5 ratings:\",\n",
        "      (courses_counts[courses_counts > 5]).count())\n",
        "print(\"amount of courses with more then 10 ratings:\",\n",
        "      (courses_counts[courses_counts > 10]).count())"
      ],
      "execution_count": 82,
      "outputs": [
        {
          "output_type": "stream",
          "text": [
            "amount of courses with more then 2 ratings: 63\n",
            "amount of courses with more then 5 ratings: 33\n",
            "amount of courses with more then 10 ratings: 18\n"
          ],
          "name": "stdout"
        },
        {
          "output_type": "display_data",
          "data": {
            "image/png": "[encoded data removed]",
            "text/plain": [
              "<Figure size 720x360 with 1 Axes>"
            ]
          },
          "metadata": {
            "tags": [],
            "needs_background": "light"
          }
        }
      ]
    },
    {
      "cell_type": "markdown",
      "metadata": {
        "id": "BM7OEm3icA6c"
      },
      "source": [
        "It seems that the majority of the qcourses has less then 5 ratings (most of them has 1) and there are few courses with high rating amount. Classic [power law](https://en.wikipedia.org/wiki/Power_law) distribution.\n",
        "Because courses with one rating are not usefull, as they can't help us predict, we will remove them later."
      ]
    },
    {
      "cell_type": "markdown",
      "metadata": {
        "id": "hzsI8pXZfG0p"
      },
      "source": [
        "## Average Ratings"
      ]
    },
    {
      "cell_type": "code",
      "metadata": {
        "colab": {
          "base_uri": "https://localhost:8080/",
          "height": 336
        },
        "id": "igyZ-HPOfWBC",
        "outputId": "7d921485-0380-4453-d2b1-c23601574028"
      },
      "source": [
        "courses_df = courses_counts.to_frame(name=\"ratings_count\")\n",
        "courses_df[\"avg_difficulty\"] = -1\n",
        "courses_df[\"avg_workload\"] = -1\n",
        " \n",
        "for course in courses_counts.index:\n",
        "    one_course_ratings = ratings_combined[ratings_combined[\"course\"] == course]\n",
        "    courses_df.loc[course, \"avg_difficulty\"] = one_course_ratings[\"difficulty\"].mean()\n",
        "    courses_df.loc[course, \"avg_workload\"] = one_course_ratings[\"workload\"].mean()\n",
        " \n",
        "fig, ax = plt.subplots(nrows=1, ncols=2)\n",
        "\n",
        "_ = courses_df[[\"avg_difficulty\", \"avg_workload\"]].plot.hist(ax=ax[0],\n",
        "                                                        alpha=0.6,\n",
        "                                                        figsize=[12,5],\n",
        "                                                        title=\"Courses Avrages Ratings Histogram, All Courses\")\n",
        "# make the same plot but only for courses with moore then 2 ratings:\n",
        "courses_highly_rated_df = courses_df[courses_df[\"ratings_count\"] > 2]\n",
        "_ =courses_highly_rated_df[[\"avg_difficulty\", \"avg_workload\"]].plot.hist(ax=ax[1],\n",
        "                                                                      alpha=0.6,\n",
        "                                                                      title=\"Histogram For Courses With 3 Ratings Or More\")"
      ],
      "execution_count": 83,
      "outputs": [
        {
          "output_type": "display_data",
          "data": {
            "image/png": "[encoded data removed]",
            "text/plain": [
              "<Figure size 864x360 with 2 Axes>"
            ]
          },
          "metadata": {
            "tags": [],
            "needs_background": "light"
          }
        }
      ]
    },
    {
      "cell_type": "markdown",
      "metadata": {
        "id": "x1OJeou_ebDc"
      },
      "source": [
        "The courses average ratings seem to be diatributed well, especially when ignoring courses with one or two ratings."
      ]
    },
    {
      "cell_type": "markdown",
      "metadata": {
        "id": "ZWe0cNug3pjj"
      },
      "source": [
        "## Students"
      ]
    },
    {
      "cell_type": "markdown",
      "metadata": {
        "id": "GVrqRGezCIiG"
      },
      "source": [
        "### ratings count"
      ]
    },
    {
      "cell_type": "code",
      "metadata": {
        "colab": {
          "base_uri": "https://localhost:8080/",
          "height": 389
        },
        "id": "3fpU7c0z3wXZ",
        "outputId": "9e7cdded-a7bf-46c9-a44e-88199290941a"
      },
      "source": [
        "print(\"students with 8 ratings or more:\", len(users_counts[users_counts >= 8]))\n",
        " \n",
        "ax = users_counts.plot.hist(bins=users_counts.max(),\n",
        "                              title=\"Rating Amount Histogram\",)\n",
        "ax.set_xlabel(\"number of ratings\")\n",
        "ax.set_ylabel(\"number of users\")"
      ],
      "execution_count": 84,
      "outputs": [
        {
          "output_type": "stream",
          "text": [
            "students with 8 ratings or more: 37\n"
          ],
          "name": "stdout"
        },
        {
          "output_type": "execute_result",
          "data": {
            "text/plain": [
              "Text(0, 0.5, 'number of users')"
            ]
          },
          "metadata": {
            "tags": []
          },
          "execution_count": 84
        },
        {
          "output_type": "display_data",
          "data": {
            "image/png": "[encoded data removed]",
            "text/plain": [
              "<Figure size 720x360 with 1 Axes>"
            ]
          },
          "metadata": {
            "tags": [],
            "needs_background": "light"
          }
        }
      ]
    },
    {
      "cell_type": "markdown",
      "metadata": {
        "id": "x_Jk20Ac_Syc"
      },
      "source": [
        "A lot of students have 8 ratings because it was stated that in order to get an prediction for courses, one must have at least 8 ratings. Later we will check if  the minimum number of ratings can be lowered with out damaging the accuracy. \n",
        " \n",
        "I specificly checked the ratings of the student with 57 ratings, and they actualy make sense and not random, it's a biomedical engineering student."
      ]
    },
    {
      "cell_type": "code",
      "metadata": {
        "id": "PeOmqQX_P7-P"
      },
      "source": [
        "# those calculation are for the 2 next graphs :\r\n",
        "users_df = users_counts.to_frame(name=\"ratings_count\")\r\n",
        "users_df[\"avg_difficulty\"] = -1\r\n",
        "users_df[\"avg_workload\"] = -1\r\n",
        "users_df[\"max_difficulty\"] = -1\r\n",
        "users_df[\"min_difficulty\"] = -1\r\n",
        "users_df[\"max_workload\"] = -1\r\n",
        "users_df[\"min_workload\"] = -1\r\n",
        " \r\n",
        "for user in users_counts.index:\r\n",
        "    one_user_ratings = ratings_combined[ratings_combined[\"user\"] == user ]\r\n",
        "\r\n",
        "    users_df.loc[user , \"avg_difficulty\"] = one_user_ratings[\"difficulty\"].mean()\r\n",
        "    users_df.loc[user , \"avg_workload\"] = one_user_ratings[\"workload\"].mean()\r\n",
        "\r\n",
        "    users_df.loc[user , \"max_difficulty\"] = one_user_ratings[\"difficulty\"].max()\r\n",
        "    users_df.loc[user , \"min_difficulty\"] = one_user_ratings[\"difficulty\"].min()\r\n",
        "    users_df.loc[user , \"max_workload\"] = one_user_ratings[\"workload\"].max()\r\n",
        "    users_df.loc[user , \"min_workload\"] = one_user_ratings[\"workload\"].min()\r\n",
        "\r\n",
        "users_df[\"ratings_range_diff\"] = users_df[\"max_difficulty\"] - users_df[\"min_difficulty\"]\r\n",
        "users_df[\"ratings_range_wl\"] = users_df[\"max_workload\"] - users_df[\"min_workload\"]"
      ],
      "execution_count": 85,
      "outputs": []
    },
    {
      "cell_type": "markdown",
      "metadata": {
        "id": "-TXcUYpuf0aH"
      },
      "source": [
        "### Average Ratings"
      ]
    },
    {
      "cell_type": "code",
      "metadata": {
        "colab": {
          "base_uri": "https://localhost:8080/",
          "height": 369
        },
        "id": "EV-XkxUigHlF",
        "outputId": "a31a0d3d-28cb-417e-a380-df95e01ef4aa"
      },
      "source": [
        "fig, ax = plt.subplots(nrows=1, ncols=2, figsize=[16,5],)\n",
        "\n",
        "ax0 = users_df[[\"avg_difficulty\", \"avg_workload\"]].plot.hist(ax=ax[0],\n",
        "                                                        alpha=0.6,\n",
        "                                                        title=\"Students Average Ratings Histogram\")\n",
        "ax0.set_xlabel(\"avg rating\")\n",
        "ax0.set_ylabel(\"number of students\")\n",
        "\n",
        "# make the same plot but only for users with more 8 ratings or more:\n",
        "users_8_plus_df = users_df[users_df[\"ratings_count\"] >= 8]\n",
        "ax1 = users_8_plus_df[[\"avg_difficulty\", \"avg_workload\"]].plot.hist(ax=ax[1],\n",
        "                                                                      alpha=0.6,\n",
        "                                                                      title=\"Histogram For Students With 8 Ratings Or More\")\n",
        "ax1.set_xlabel(\"avg rating\")\n",
        "ax1.set_ylabel(\"number of students\")"
      ],
      "execution_count": 86,
      "outputs": [
        {
          "output_type": "execute_result",
          "data": {
            "text/plain": [
              "Text(0, 0.5, 'number of students')"
            ]
          },
          "metadata": {
            "tags": []
          },
          "execution_count": 86
        },
        {
          "output_type": "display_data",
          "data": {
            "image/png": "[encoded data removed]",
            "text/plain": [
              "<Figure size 1152x360 with 2 Axes>"
            ]
          },
          "metadata": {
            "tags": [],
            "needs_background": "light"
          }
        }
      ]
    },
    {
      "cell_type": "markdown",
      "metadata": {
        "id": "XwVOfvGfOgJu"
      },
      "source": [
        "### Ratings Range\r\n",
        "Students are encouraged to use all the 1-10 scale in their votes in order to produce high quality data and to get better predictions. \r\n",
        "We are going to check how well they did, this time we only use the data of students with 8 ratings or more.\r\n",
        "the maximum range is 9 (there is no 0 in the scale)."
      ]
    },
    {
      "cell_type": "code",
      "metadata": {
        "colab": {
          "base_uri": "https://localhost:8080/",
          "height": 0
        },
        "id": "UAYqCB7iOpOg",
        "outputId": "58487dc8-b3cb-4f11-b766-6809b423fab3"
      },
      "source": [
        "fig, ax = plt.subplots(nrows=1, ncols=3, figsize=[20,5],)\r\n",
        "\r\n",
        "ax0 = users_8_plus_df[[\"min_difficulty\", \"min_workload\"]].plot.hist(ax=ax[0],\r\n",
        "                                                        alpha=0.6,\r\n",
        "                                                        title=\"Students Min Rating Histogram\")\r\n",
        "ax0.set_ylabel(\"number of students\")\r\n",
        "\r\n",
        "ax1 = users_8_plus_df[[\"max_difficulty\", \"max_workload\"]].plot.hist(ax=ax[1],\r\n",
        "                                                                      alpha=0.6,\r\n",
        "                                                                      title=\"Students Max Rating Histogram\")\r\n",
        "ax1.set_ylabel(\"number of students\")\r\n",
        "\r\n",
        "ax2 = users_8_plus_df[[\"ratings_range_diff\", \"ratings_range_wl\"]].plot.hist(ax=ax[2],\r\n",
        "                                                                      alpha=0.6,\r\n",
        "                                                                      title=\"Students Ratings Range\")\r\n",
        "ax2.set_ylabel(\"number of students\")"
      ],
      "execution_count": 87,
      "outputs": [
        {
          "output_type": "execute_result",
          "data": {
            "text/plain": [
              "Text(0, 0.5, 'number of students')"
            ]
          },
          "metadata": {
            "tags": []
          },
          "execution_count": 87
        },
        {
          "output_type": "display_data",
          "data": {
            "image/png": "[encoded data removed]",
            "text/plain": [
              "<Figure size 1440x360 with 3 Axes>"
            ]
          },
          "metadata": {
            "tags": [],
            "needs_background": "light"
          }
        }
      ]
    },
    {
      "cell_type": "markdown",
      "metadata": {
        "id": "wBkZd_77-qpw"
      },
      "source": [
        "It seems that most of the students did well, but becasue some of the students did not use enough of the scale, we might want to normlize students ratings to 1-10 scale when performing algorithems on the data."
      ]
    },
    {
      "cell_type": "markdown",
      "metadata": {
        "id": "lLKbhu8e7Vuq"
      },
      "source": [
        "## Correlation Between Workload And Difficulty"
      ]
    },
    {
      "cell_type": "code",
      "metadata": {
        "colab": {
          "base_uri": "https://localhost:8080/"
        },
        "id": "KBl3oyha8JZ9",
        "outputId": "995bd10d-c368-49f0-86fa-b6f437d558c2"
      },
      "source": [
        "corr = ratings_combined[\"workload\"].corr(ratings_combined[\"difficulty\"])\r\n",
        "print(\"the correlation beetween workload and difficulty is\", corr)"
      ],
      "execution_count": 88,
      "outputs": [
        {
          "output_type": "stream",
          "text": [
            "the correlation beetween workload and difficulty is 0.598543461791896\n"
          ],
          "name": "stdout"
        }
      ]
    },
    {
      "cell_type": "markdown",
      "metadata": {
        "id": "IbfT5cbzE8gF"
      },
      "source": [
        "## Ratings Variances (And Standard Deviation)\r\n",
        "We would also like to know what are the varicances of the courses ratings. Low variance on course ratings, means that most of the students think pretty much the same, and maybe predicting difficulty using ML algorithms is superfluous becase the average is a pretty good predictor for everyone. \r\n",
        "we will look at the 20 most rated courses. "
      ]
    },
    {
      "cell_type": "code",
      "metadata": {
        "colab": {
          "base_uri": "https://localhost:8080/",
          "height": 403
        },
        "id": "7MMHLrodFOGd",
        "outputId": "70ec9bac-6440-41e1-90d7-a1caa3dddfa9"
      },
      "source": [
        "courses_df[\"var_diff\"] = -1\r\n",
        "courses_df[\"var_wl\"] = -1\r\n",
        "\r\n",
        "# we will calculate variance for all the courses anyway\r\n",
        "for course in courses_df.index:\r\n",
        "    one_course_ratings = ratings_combined[ratings_combined[\"course\"] == course]\r\n",
        "    variances = one_course_ratings.var()\r\n",
        "    courses_df.loc[course, \"var_diff\"] = variances[\"difficulty\"]\r\n",
        "    courses_df.loc[course, \"var_wl\"] = variances[\"workload\"]\r\n",
        "\r\n",
        "# ignoring variance, we can get better conclution from the std\r\n",
        "#\r\n",
        "# fig, ax = plt.subplots(nrows=2, ncols=2, figsize=[12,13])\r\n",
        "# ax1 = courses_df[\"var_diff\"].iloc[0:20].plot.bar(ax=ax[0,0],\r\n",
        "#                                         title=\"Difficulty Variance\",\r\n",
        "#                                         ylabel=\"variance\",)\r\n",
        "# ax2 = courses_df[\"var_wl\"].iloc[0:20].plot.bar(ax=ax[0,1],\r\n",
        "#                                         title=\"Workload Variance\",\r\n",
        "#                                         ylabel=\"variance\",)\r\n",
        "\r\n",
        "fig, ax = plt.subplots(nrows=1, ncols=2, figsize=[12,5])\r\n",
        "\r\n",
        "courses_df[\"std_diff\"] = np.sqrt(courses_df[\"var_diff\"])\r\n",
        "courses_df[\"std_wl\"] = np.sqrt(courses_df[\"var_wl\"])\r\n",
        "\r\n",
        "ax3 = courses_df[\"std_diff\"].iloc[0:20].plot.bar(ax=ax[0],\r\n",
        "                                        title=\"Difficulty Standard Deviation\",\r\n",
        "                                        ylabel=\"std\",)\r\n",
        "ax4 = courses_df[\"std_wl\"].iloc[0:20].plot.bar(ax=ax[1],\r\n",
        "                                        title=\"Workload Standard Deviation\",\r\n",
        "                                        ylabel=\"std\",)\r\n",
        "\r\n",
        "print(\"average std for difficulty:\", courses_df[\"std_diff\"].mean())\r\n",
        "print(\"average std for workload:\", courses_df[\"std_wl\"].mean())"
      ],
      "execution_count": 89,
      "outputs": [
        {
          "output_type": "stream",
          "text": [
            "average std for difficulty: 1.4073870847942722\n",
            "average std for workload: 1.3575180913270293\n"
          ],
          "name": "stdout"
        },
        {
          "output_type": "display_data",
          "data": {
            "image/png": "[encoded data removed]",
            "text/plain": [
              "<Figure size 864x360 with 2 Axes>"
            ]
          },
          "metadata": {
            "tags": [],
            "needs_background": "light"
          }
        }
      ]
    },
    {
      "cell_type": "markdown",
      "metadata": {
        "id": "zcnQyFg2hb2J"
      },
      "source": [
        "In most of the rated courses, the standad deviation is quite low: around 1.5 and there are some courses with very low value. but some courses has high variance of ratings and may be intrasting to predict for students or to be used for prediction.\r\n",
        "\r\n",
        "234117 for example, \"Introduction To Computer Science\" is a first semester course which some students find hard and some easy. We could expect that student thinking this course is hard will think the same on other programming courses.\r\n",
        "\r\n"
      ]
    },
    {
      "cell_type": "markdown",
      "metadata": {
        "id": "gygqBDOoqaLn"
      },
      "source": [
        "# Data Preparation\r\n",
        "As mentioned earlier, we are not going to handle courses with one rating and at this point we are only going to handle students with less then 8 ratings (we will test this number later).\r\n",
        "\r\n",
        "for performance reasons, our algorithms are going to work on numpy arrays and not on pandas dataframes.\r\n",
        "\r\n",
        "The algorithms are going to get an $n$ x $2$ matrix and $n$ x $1$ vector as a training input because this is how the data is represented in our database. of course some of the algorithms are going to change the representation.\r\n",
        "\r\n",
        "$X = \\begin{pmatrix}\r\n",
        "  u^{(1)} & c^{(1)} \\\\\r\n",
        "  \\vdots  & \\vdots \\\\\r\n",
        "  u^{(n)} & c^{(n)} \r\n",
        " \\end{pmatrix}$\r\n",
        " $ \\mathbf y = \\begin{pmatrix}\r\n",
        "  y^{(1)}\\\\\r\n",
        "  \\vdots \\\\\r\n",
        "  y^{(n)} \r\n",
        " \\end{pmatrix} $\r\n",
        "\r\n",
        "each row is one rating while $u$ represents user, $c$ course and $y$ difficulty or workload. of course that for some $i \\neq j $,  $u^{(i)} = u^{(j)} $ and same for course.\r\n",
        "\r\n",
        "for prediction, the input will be **one** user and one course $\\mathbf x = (u , c)$ and the out put will be an estimation for difficulty or workload $\\mathbf{\\hat y_{diff}}$ \\ $\\mathbf{\\hat y_{wl}} $.\r\n",
        "\r\n",
        "the prediction will be for one sample at a time although it may harm the perfomence when testing the algorithm here (a python function call for each sample instead of vectorized implementation), it is better for production, because at the website we are going to make one prediction at a time so we can optimize the algorithm for one prediction.\r\n",
        "\r\n",
        "\r\n",
        "\r\n",
        "\r\n"
      ]
    },
    {
      "cell_type": "code",
      "metadata": {
        "colab": {
          "base_uri": "https://localhost:8080/"
        },
        "id": "mGsB49pCkLxK",
        "outputId": "fe9a5408-3416-4e14-a7cc-f00575a8c491"
      },
      "source": [
        "X_df = ratings_combined[[\"user\", \"course\", \"workload\", \"difficulty\"]]\r\n",
        "# X_df actually contains now both y vectors, they will be seperated \r\n",
        "# at convertion to numpy\r\n",
        "\r\n",
        "# clean courses with less then 2 ratings:\r\n",
        "courses_df_clean = courses_df[courses_df[\"ratings_count\"] > 1]\r\n",
        "X_df = X_df[X_df[\"course\"].isin(courses_df_clean.index)]\r\n",
        "\r\n",
        "# clean students with less then 8 ratings:\r\n",
        "X_df = X_df[X_df[\"user\"].isin(users_8_plus_df.index)]\r\n",
        "\r\n",
        "print(\"we are left with\", len(X_df), \"samples\")\r\n",
        "print()\r\n",
        "\r\n",
        "# convert to numpy:\r\n",
        "X = X_df[[\"user\", \"course\"]].to_numpy()\r\n",
        "y_diff = X_df[\"difficulty\"].to_numpy()\r\n",
        "y_wl = X_df[\"workload\"].to_numpy()"
      ],
      "execution_count": 90,
      "outputs": [
        {
          "output_type": "stream",
          "text": [
            "we are left with 523 samples\n",
            "\n"
          ],
          "name": "stdout"
        }
      ]
    },
    {
      "cell_type": "markdown",
      "metadata": {
        "id": "wNJUhjaSm-ju"
      },
      "source": [
        "# Algorithm Metrics\r\n",
        "## Defining The Problem\r\n",
        "Given user U and course C, we would like to give an prediction for the difficulty and workload of C to U, using all the other ratings.\r\n",
        "this is a **regression** problem.\r\n",
        "In some cases the prediction is impossible, for example: the course U doesn't have any ratings at all. we could do something like giving a naive prediction of 5 or the mean rating in the data, but i prefer not to do that because it could harm the transparency of the metrics.\r\n",
        "therefore, a prediction can be either a real number from 1 to 10 or a None which means the prediction was impossible.\r\n",
        "\r\n",
        "## Metrics\r\n",
        "We should define metrics to measure how good is a recommendation or set of recommedations.\r\n",
        "\r\n",
        "The metrics are not going to combine difficulty and workload but be calculated for each prediction seperatly.\r\n",
        "\r\n",
        "given a set of user ratings\r\n",
        " $ \\mathbf{y} = \\begin{pmatrix}\r\n",
        "  y^{(1)} \\\\\r\n",
        "  y^{(2)} \\\\\r\n",
        "  \\vdots \\\\\r\n",
        "  y^{(n)}\r\n",
        "  \\end{pmatrix}$\r\n",
        "and a set of predictions \r\n",
        "$\\mathbf{\\hat y} = \\begin{pmatrix}\r\n",
        "  \\hat y^{(1)} \\\\\r\n",
        "  \\hat y^{(2)} \\\\\r\n",
        "  \\vdots \\\\\r\n",
        "  \\hat y^{(n)}\r\n",
        "  \\end{pmatrix}$ ,\r\n",
        "\r\n",
        "we will define $l(y^{(i)}, \\hat y^{(i)})$ as the loss function, an error function on one prediction and $E(\\mathbf{y}, \\mathbf{\\hat y})$ as the error on the set.\r\n",
        "<br><br>\r\n",
        "### MAE\r\n",
        "This is the most intuitive method. It measures the average prediction error on a set of prediction.\r\n",
        "\r\n",
        "$l(y^{(i)}, \\hat y^{(i)}) = |y^{(i)} - \\hat y^{(i)}|$\r\n",
        "\r\n",
        "$E(\\mathbf{y}, \\mathbf{\\hat y}) = \\frac{1}{n} \\sum_{i=1}^n |y^{(i)} - \\hat y^{(i)}| $\r\n",
        "\r\n",
        "It is good method because it lets us know exactly the average of \"how match we are wrong\"\r\n",
        "<br><br>\r\n",
        "### RMSE\r\n",
        "This method is very well known and widely used.\r\n",
        "It measures the average root square error of the prediction.\r\n",
        "$l(y^{(i)}, \\hat y^{(i)}) = (y^{(i)} - \\hat y^{(i)})^2$\r\n",
        "\r\n",
        "$E(\\mathbf{y}, \\mathbf{\\hat y}) = \\frac{1}{n} \\sum_{i=1}^n (y^{(i)} - \\hat y^{(i)})^2 $\r\n",
        "\r\n",
        "Since the errors are squared before they are averaged, the RMSE gives a relatively high weight to large errors on the set, so optimazing the RMSE will penalize large errors.\r\n",
        " <br><br>\r\n",
        "\r\n",
        " ### 1/2 loss missclasification rate\r\n",
        "This method uses the MAE formula but returns a binary loss. it ignores errors lower then 0.5 and counts errors higher then that.\r\n",
        "\r\n",
        "$l(y^{(i)}, \\hat y^{(i)}) = \\mathbb I\\{|y^{(i)} - \\hat y^{(i)}| > 0.5 \\} \\in \\{0,1\\}$\r\n",
        "\r\n",
        "$E(\\mathbf{y}, \\mathbf{\\hat y}) = \\frac{1}{n} \\sum_{i=1}^n \\mathbb I\\{|y^{(i)} - \\hat y^{(i)}| > 0.5 \\} \\in [0,1]$\r\n",
        "\r\n",
        "This method is usefull because it ignores low errors. optimizing it means we are maximizing the amount of right predictions, assuming that an up to 0.5 error is negligible. \r\n",
        "(if a student real value of difficulty is 6.5 for example, 6 to 7 are reasonable predictions)"
      ]
    },
    {
      "cell_type": "code",
      "metadata": {
        "id": "H8lWxdgaMocl"
      },
      "source": [
        "from sklearn.metrics import mean_absolute_error as mae\r\n",
        "mae.__name__ = \"mae\"\r\n",
        "from sklearn.metrics import mean_squared_error\r\n",
        "\r\n",
        "\r\n",
        "def rmse(y, y_hat):\r\n",
        "    return np.sqrt(mean_squared_error(y, y_hat))\r\n",
        "\r\n",
        "\r\n",
        "def half_miss_rate(y, y_hat):\r\n",
        "    \"\"\" half missclassification rate function for 2 numpy vectors \"\"\"\r\n",
        "    assert(len(y) == len(y_hat))\r\n",
        "    loss_vector = np.absolute(y - y_hat) > 0.5\r\n",
        "    return np.count_nonzero(loss_vector) / len(loss_vector)\r\n",
        "\r\n",
        "\r\n",
        "assert(half_miss_rate(np.array([1,2,3]), np.array([1.3, 2.9, 3])) == 1/3)\r\n",
        "assert(mae(np.array([1,2,3]), np.array([2, 3, 7])) == 2)\r\n",
        "assert(rmse(np.array([1,1,1]), np.array([2, 2, 2])) == 1)"
      ],
      "execution_count": 91,
      "outputs": []
    },
    {
      "cell_type": "markdown",
      "metadata": {
        "id": "cEFwa9IglvTa"
      },
      "source": [
        "## Algorithm Evaluation\n",
        "### 10-Fold For Test\n",
        "Since our data is small and sparce, a simple 20-80 test-train split will not be enough. Also a 5-fold split leaves us with tarin sets which are too small and may not have enough common courses/users with the test sets. Therefore we will use 10-fold split for train set and test set. \n",
        "We can allow ourself to do that because training and testing 10 times will not take too long as the data is small.\n",
        " \n",
        "For our first naive algorithms we don't need validation set becasue there are no parameters to tune, but we will make that split later."
      ]
    },
    {
      "cell_type": "code",
      "metadata": {
        "id": "h8loW1HwmGif"
      },
      "source": [
        "from typing import Callable, List, Union\n",
        "from sklearn.model_selection import KFold\n",
        " \n",
        " \n",
        "# define generic algorithm for evaluator:\n",
        "class GenericAlgorithm():\n",
        "    def __init__(self):\n",
        "        self.is_trained = False\n",
        "\n",
        "    def train(self, X, y):\n",
        "        assert(X.shape[0] == len(y))\n",
        "        assert(X.shape[1] == 2)\n",
        "        self.is_trained = True\n",
        " \n",
        "    def predict(self, x):\n",
        "        assert(len(x) == 2)\n",
        "        assert(self.is_trained == True)\n",
        " \n",
        " \n",
        "class AlgorithmEvaluator():\n",
        "    def __init__(self,\n",
        "                 num_of_folds: int, \n",
        "                 metric_functions: List[ Callable[[np.ndarray, np.ndarray], float] ]=\n",
        "                                                           [mae, rmse, half_miss_rate],\n",
        "                 random_seed: Union[None, int]=None):\n",
        "        \"\"\"\n",
        "         Create algorithm evaluator that evaluate algorithms with num_of_folds\n",
        "         folds and a list of metrics.\n",
        "         metric_functions is list of functions, each of the function recives \n",
        "         two arrays (y and y_hat) and returns the error E.\n",
        "        \"\"\"\n",
        "        self.metrics = metric_functions\n",
        "        self.k = num_of_folds\n",
        "        self.k_fold = KFold(n_splits=self.k,\n",
        "                            shuffle=True,\n",
        "                            random_state=random_seed)\n",
        "        self.last_res = None\n",
        "        \n",
        "    def evaluate(self, \n",
        "                 algo :GenericAlgorithm,\n",
        "                 X: np.ndarray,\n",
        "                 y: np.ndarray) -> pd.DataFrame:\n",
        "        \"\"\" \n",
        "        evaluate a given algorithm (with the methods train and predict), \n",
        "        returns table of the results of each fold as DataFrame\n",
        "        \"\"\"\n",
        "        df_columns = [\"fold\", \"n_train\", \"n_test\", \"n_was_impossible\",]\n",
        "        df_columns += [m.__name__ for m in self.metrics]\n",
        "        res = pd.DataFrame(columns=df_columns)\n",
        " \n",
        "        # itarate over folds \n",
        "        i_fold = 1  # fold counter\n",
        "        for train_index, test_index in self.k_fold.split(X):\n",
        "            X_train, X_test = X[train_index], X[test_index]\n",
        "            y_train, y_test = y[train_index], y[test_index]\n",
        " \n",
        "            algo.train(X_train, y_train)\n",
        "            y_hat = np.array([algo.predict(x) for x in X_test])\n",
        " \n",
        "            none_count = np.count_nonzero(y_hat == None)\n",
        "            df_row = [\"f\" + str(i_fold), len(y_train), len(y_test), \n",
        "                      none_count]\n",
        " \n",
        "            # remove none values from y and y_hat:\n",
        "            numerical_indices = np.where(y_hat != None)\n",
        "            y_test, y_hat = y_test[numerical_indices], y_hat[numerical_indices]\n",
        " \n",
        "            df_row += [metric(y_test, y_hat) for metric in self.metrics]\n",
        " \n",
        "            res.loc[i_fold] = df_row\n",
        " \n",
        "            i_fold += 1\n",
        "        \n",
        "        # add last row as means:\n",
        "        res.loc[i_fold] = res.mean()\n",
        "        res.loc[i_fold, [\"fold\", \"n_train\", \"n_test\"]] = [\"AVG\", '', '']\n",
        "        self.last_res = res\n",
        "        return res\n",
        " \n",
        "    def print_summery(self):\n",
        "        print(self.last_res.iloc[self.k])"
      ],
      "execution_count": 92,
      "outputs": []
    },
    {
      "cell_type": "markdown",
      "metadata": {
        "id": "PhtESKY3nKbH"
      },
      "source": [
        "# Naive Algorithms\n",
        "First, we will test some simple (and not very usefull) estimators. They are usefull for comparing to other algorithms and they results may be a good starting point to improve from."
      ]
    },
    {
      "cell_type": "markdown",
      "metadata": {
        "id": "t_4kOV_6znxC"
      },
      "source": [
        "## Course Mean \n",
        "Actualy, although this eatimator is simple, it is quite good for prediction. \n",
        "All it does in order to predict rating of user U for course C is return the mean rating of C in the data.\n",
        " \n",
        "formaly:\n",
        " \n",
        "$R(U,C) = \\frac{1}{|R_c|} \\sum_{r \\in R_c} r$\n",
        " \n",
        "Where $R_C$ is the set of all ratings of C.\n",
        " \n",
        "By the way, here the MAE should have around the same value as the mean S.T.D of courses we computed earlier."
      ]
    },
    {
      "cell_type": "code",
      "metadata": {
        "id": "YtBVkxvt6DPL"
      },
      "source": [
        "class MeanRating(GenericAlgorithm):\n",
        "    def __init__(self):\n",
        "        super().__init__()\n",
        "        self.x = None\n",
        "        self.y = None\n",
        " \n",
        "    def train(self, X, y):\n",
        "        super().train(X, y)\n",
        "        self.x = X[:,1] # we don't need to know the user\n",
        "        self.y = y\n",
        "        # this is a lazy implementation, we only calculate the average when \n",
        "        # a prediction is requested\n",
        " \n",
        "    def predict(self, x):\n",
        "        super().predict(x)\n",
        "        if not x[1] in self.x:\n",
        "             return None\n",
        "        return self.y[self.x == x[1]].mean()"
      ],
      "execution_count": 93,
      "outputs": []
    },
    {
      "cell_type": "code",
      "metadata": {
        "colab": {
          "base_uri": "https://localhost:8080/",
          "height": 414
        },
        "id": "e5yqa6DIrVRp",
        "outputId": "509f75f5-f9de-4d52-83ef-767aa4bd5372"
      },
      "source": [
        "evaluator = AlgorithmEvaluator(10, random_seed=69**2)\n",
        "algo = MeanRating()\n",
        "print(\"difficulty evaluation\")\n",
        "evaluator.evaluate(algo, X, y_diff)"
      ],
      "execution_count": 94,
      "outputs": [
        {
          "output_type": "stream",
          "text": [
            "difficulty evaluation\n"
          ],
          "name": "stdout"
        },
        {
          "output_type": "execute_result",
          "data": {
            "text/html": [
              "<div>\n",
              "<style scoped>\n",
              "    .dataframe tbody tr th:only-of-type {\n",
              "        vertical-align: middle;\n",
              "    }\n",
              "\n",
              "    .dataframe tbody tr th {\n",
              "        vertical-align: top;\n",
              "    }\n",
              "\n",
              "    .dataframe thead th {\n",
              "        text-align: right;\n",
              "    }\n",
              "</style>\n",
              "<table border=\"1\" class=\"dataframe\">\n",
              "  <thead>\n",
              "    <tr style=\"text-align: right;\">\n",
              "      <th></th>\n",
              "      <th>fold</th>\n",
              "      <th>n_train</th>\n",
              "      <th>n_test</th>\n",
              "      <th>n_was_impossible</th>\n",
              "      <th>mae</th>\n",
              "      <th>rmse</th>\n",
              "      <th>half_miss_rate</th>\n",
              "    </tr>\n",
              "  </thead>\n",
              "  <tbody>\n",
              "    <tr>\n",
              "      <th>1</th>\n",
              "      <td>f1</td>\n",
              "      <td>470</td>\n",
              "      <td>53</td>\n",
              "      <td>1</td>\n",
              "      <td>1.759143</td>\n",
              "      <td>2.197034</td>\n",
              "      <td>0.807692</td>\n",
              "    </tr>\n",
              "    <tr>\n",
              "      <th>2</th>\n",
              "      <td>f2</td>\n",
              "      <td>470</td>\n",
              "      <td>53</td>\n",
              "      <td>0</td>\n",
              "      <td>1.183508</td>\n",
              "      <td>1.404227</td>\n",
              "      <td>0.773585</td>\n",
              "    </tr>\n",
              "    <tr>\n",
              "      <th>3</th>\n",
              "      <td>f3</td>\n",
              "      <td>470</td>\n",
              "      <td>53</td>\n",
              "      <td>5</td>\n",
              "      <td>1.426273</td>\n",
              "      <td>1.826645</td>\n",
              "      <td>0.770833</td>\n",
              "    </tr>\n",
              "    <tr>\n",
              "      <th>4</th>\n",
              "      <td>f4</td>\n",
              "      <td>471</td>\n",
              "      <td>52</td>\n",
              "      <td>0</td>\n",
              "      <td>1.536732</td>\n",
              "      <td>1.989648</td>\n",
              "      <td>0.692308</td>\n",
              "    </tr>\n",
              "    <tr>\n",
              "      <th>5</th>\n",
              "      <td>f5</td>\n",
              "      <td>471</td>\n",
              "      <td>52</td>\n",
              "      <td>0</td>\n",
              "      <td>1.458770</td>\n",
              "      <td>1.949137</td>\n",
              "      <td>0.711538</td>\n",
              "    </tr>\n",
              "    <tr>\n",
              "      <th>6</th>\n",
              "      <td>f6</td>\n",
              "      <td>471</td>\n",
              "      <td>52</td>\n",
              "      <td>1</td>\n",
              "      <td>1.414885</td>\n",
              "      <td>1.834381</td>\n",
              "      <td>0.666667</td>\n",
              "    </tr>\n",
              "    <tr>\n",
              "      <th>7</th>\n",
              "      <td>f7</td>\n",
              "      <td>471</td>\n",
              "      <td>52</td>\n",
              "      <td>5</td>\n",
              "      <td>1.466966</td>\n",
              "      <td>1.916166</td>\n",
              "      <td>0.808511</td>\n",
              "    </tr>\n",
              "    <tr>\n",
              "      <th>8</th>\n",
              "      <td>f8</td>\n",
              "      <td>471</td>\n",
              "      <td>52</td>\n",
              "      <td>2</td>\n",
              "      <td>1.825707</td>\n",
              "      <td>2.198589</td>\n",
              "      <td>0.860000</td>\n",
              "    </tr>\n",
              "    <tr>\n",
              "      <th>9</th>\n",
              "      <td>f9</td>\n",
              "      <td>471</td>\n",
              "      <td>52</td>\n",
              "      <td>0</td>\n",
              "      <td>1.493651</td>\n",
              "      <td>1.939531</td>\n",
              "      <td>0.750000</td>\n",
              "    </tr>\n",
              "    <tr>\n",
              "      <th>10</th>\n",
              "      <td>f10</td>\n",
              "      <td>471</td>\n",
              "      <td>52</td>\n",
              "      <td>0</td>\n",
              "      <td>1.368560</td>\n",
              "      <td>1.755525</td>\n",
              "      <td>0.730769</td>\n",
              "    </tr>\n",
              "    <tr>\n",
              "      <th>11</th>\n",
              "      <td>AVG</td>\n",
              "      <td></td>\n",
              "      <td></td>\n",
              "      <td>1.4</td>\n",
              "      <td>1.493419</td>\n",
              "      <td>1.901088</td>\n",
              "      <td>0.757190</td>\n",
              "    </tr>\n",
              "  </tbody>\n",
              "</table>\n",
              "</div>"
            ],
            "text/plain": [
              "   fold n_train n_test n_was_impossible       mae      rmse  half_miss_rate\n",
              "1    f1     470     53                1  1.759143  2.197034        0.807692\n",
              "2    f2     470     53                0  1.183508  1.404227        0.773585\n",
              "3    f3     470     53                5  1.426273  1.826645        0.770833\n",
              "4    f4     471     52                0  1.536732  1.989648        0.692308\n",
              "5    f5     471     52                0  1.458770  1.949137        0.711538\n",
              "6    f6     471     52                1  1.414885  1.834381        0.666667\n",
              "7    f7     471     52                5  1.466966  1.916166        0.808511\n",
              "8    f8     471     52                2  1.825707  2.198589        0.860000\n",
              "9    f9     471     52                0  1.493651  1.939531        0.750000\n",
              "10  f10     471     52                0  1.368560  1.755525        0.730769\n",
              "11  AVG                             1.4  1.493419  1.901088        0.757190"
            ]
          },
          "metadata": {
            "tags": []
          },
          "execution_count": 94
        }
      ]
    },
    {
      "cell_type": "code",
      "metadata": {
        "colab": {
          "base_uri": "https://localhost:8080/",
          "height": 414
        },
        "id": "SPvCLepLreBU",
        "outputId": "25cde76e-b8a9-43fd-96fd-dabf31ed0464"
      },
      "source": [
        " print(\"workload evaluation\")\n",
        "evaluator.evaluate(algo, X, y_wl)"
      ],
      "execution_count": 95,
      "outputs": [
        {
          "output_type": "stream",
          "text": [
            "workload evaluation\n"
          ],
          "name": "stdout"
        },
        {
          "output_type": "execute_result",
          "data": {
            "text/html": [
              "<div>\n",
              "<style scoped>\n",
              "    .dataframe tbody tr th:only-of-type {\n",
              "        vertical-align: middle;\n",
              "    }\n",
              "\n",
              "    .dataframe tbody tr th {\n",
              "        vertical-align: top;\n",
              "    }\n",
              "\n",
              "    .dataframe thead th {\n",
              "        text-align: right;\n",
              "    }\n",
              "</style>\n",
              "<table border=\"1\" class=\"dataframe\">\n",
              "  <thead>\n",
              "    <tr style=\"text-align: right;\">\n",
              "      <th></th>\n",
              "      <th>fold</th>\n",
              "      <th>n_train</th>\n",
              "      <th>n_test</th>\n",
              "      <th>n_was_impossible</th>\n",
              "      <th>mae</th>\n",
              "      <th>rmse</th>\n",
              "      <th>half_miss_rate</th>\n",
              "    </tr>\n",
              "  </thead>\n",
              "  <tbody>\n",
              "    <tr>\n",
              "      <th>1</th>\n",
              "      <td>f1</td>\n",
              "      <td>470</td>\n",
              "      <td>53</td>\n",
              "      <td>1</td>\n",
              "      <td>1.734918</td>\n",
              "      <td>2.102399</td>\n",
              "      <td>0.788462</td>\n",
              "    </tr>\n",
              "    <tr>\n",
              "      <th>2</th>\n",
              "      <td>f2</td>\n",
              "      <td>470</td>\n",
              "      <td>53</td>\n",
              "      <td>0</td>\n",
              "      <td>1.205206</td>\n",
              "      <td>1.636124</td>\n",
              "      <td>0.641509</td>\n",
              "    </tr>\n",
              "    <tr>\n",
              "      <th>3</th>\n",
              "      <td>f3</td>\n",
              "      <td>470</td>\n",
              "      <td>53</td>\n",
              "      <td>5</td>\n",
              "      <td>1.597754</td>\n",
              "      <td>2.001928</td>\n",
              "      <td>0.729167</td>\n",
              "    </tr>\n",
              "    <tr>\n",
              "      <th>4</th>\n",
              "      <td>f4</td>\n",
              "      <td>471</td>\n",
              "      <td>52</td>\n",
              "      <td>0</td>\n",
              "      <td>1.625904</td>\n",
              "      <td>2.104761</td>\n",
              "      <td>0.750000</td>\n",
              "    </tr>\n",
              "    <tr>\n",
              "      <th>5</th>\n",
              "      <td>f5</td>\n",
              "      <td>471</td>\n",
              "      <td>52</td>\n",
              "      <td>0</td>\n",
              "      <td>1.234341</td>\n",
              "      <td>1.558802</td>\n",
              "      <td>0.653846</td>\n",
              "    </tr>\n",
              "    <tr>\n",
              "      <th>6</th>\n",
              "      <td>f6</td>\n",
              "      <td>471</td>\n",
              "      <td>52</td>\n",
              "      <td>1</td>\n",
              "      <td>1.163747</td>\n",
              "      <td>1.568457</td>\n",
              "      <td>0.627451</td>\n",
              "    </tr>\n",
              "    <tr>\n",
              "      <th>7</th>\n",
              "      <td>f7</td>\n",
              "      <td>471</td>\n",
              "      <td>52</td>\n",
              "      <td>5</td>\n",
              "      <td>1.745925</td>\n",
              "      <td>2.068449</td>\n",
              "      <td>0.893617</td>\n",
              "    </tr>\n",
              "    <tr>\n",
              "      <th>8</th>\n",
              "      <td>f8</td>\n",
              "      <td>471</td>\n",
              "      <td>52</td>\n",
              "      <td>2</td>\n",
              "      <td>1.573862</td>\n",
              "      <td>2.104274</td>\n",
              "      <td>0.740000</td>\n",
              "    </tr>\n",
              "    <tr>\n",
              "      <th>9</th>\n",
              "      <td>f9</td>\n",
              "      <td>471</td>\n",
              "      <td>52</td>\n",
              "      <td>0</td>\n",
              "      <td>1.522612</td>\n",
              "      <td>1.842543</td>\n",
              "      <td>0.769231</td>\n",
              "    </tr>\n",
              "    <tr>\n",
              "      <th>10</th>\n",
              "      <td>f10</td>\n",
              "      <td>471</td>\n",
              "      <td>52</td>\n",
              "      <td>0</td>\n",
              "      <td>1.469208</td>\n",
              "      <td>1.811815</td>\n",
              "      <td>0.807692</td>\n",
              "    </tr>\n",
              "    <tr>\n",
              "      <th>11</th>\n",
              "      <td>AVG</td>\n",
              "      <td></td>\n",
              "      <td></td>\n",
              "      <td>1.4</td>\n",
              "      <td>1.487348</td>\n",
              "      <td>1.879955</td>\n",
              "      <td>0.740097</td>\n",
              "    </tr>\n",
              "  </tbody>\n",
              "</table>\n",
              "</div>"
            ],
            "text/plain": [
              "   fold n_train n_test n_was_impossible       mae      rmse  half_miss_rate\n",
              "1    f1     470     53                1  1.734918  2.102399        0.788462\n",
              "2    f2     470     53                0  1.205206  1.636124        0.641509\n",
              "3    f3     470     53                5  1.597754  2.001928        0.729167\n",
              "4    f4     471     52                0  1.625904  2.104761        0.750000\n",
              "5    f5     471     52                0  1.234341  1.558802        0.653846\n",
              "6    f6     471     52                1  1.163747  1.568457        0.627451\n",
              "7    f7     471     52                5  1.745925  2.068449        0.893617\n",
              "8    f8     471     52                2  1.573862  2.104274        0.740000\n",
              "9    f9     471     52                0  1.522612  1.842543        0.769231\n",
              "10  f10     471     52                0  1.469208  1.811815        0.807692\n",
              "11  AVG                             1.4  1.487348  1.879955        0.740097"
            ]
          },
          "metadata": {
            "tags": []
          },
          "execution_count": 95
        }
      ]
    },
    {
      "cell_type": "markdown",
      "metadata": {
        "id": "OaREmJ3CqseG"
      },
      "source": [
        "The reaults for both workload and difficulty in words:\n",
        "* On an average case, according to the MAE we will have around 1.5 error in prediction\n",
        "* Around 1/4 of prediction are within 0.5 error according to half missclassification rate\n",
        " \n",
        "Those reaults may give us reference for other algorithms."
      ]
    },
    {
      "cell_type": "markdown",
      "metadata": {
        "id": "liTed6344M89"
      },
      "source": [
        "## Dummy Five\n",
        "Before we go ahead, lets try one more naive algorithm. This one is even simpler but not very usefull.\n",
        "No matter what the user, or the course we are predicting, it will return 5. Formaly:\n",
        "$R(U,C) = 5$\n",
        "\n",
        "We actually already know that the MAE can't be higher then 5 here (it would have been 5 if all ratings were 10).\n",
        "\n",
        "This time we will only show the final reault and not all the folds."
      ]
    },
    {
      "cell_type": "code",
      "metadata": {
        "id": "hZIrTJ7XtCUx"
      },
      "source": [
        " class DummyFive(GenericAlgorithm): \n",
        "    def __init__(self):\n",
        "        super().__init__()\n",
        " \n",
        "    def train(self, X, y):\n",
        "        super().train(X, y)\n",
        " \n",
        "    def predict(self, x):\n",
        "        super().predict(x)\n",
        "        return 5"
      ],
      "execution_count": 96,
      "outputs": []
    },
    {
      "cell_type": "code",
      "metadata": {
        "colab": {
          "base_uri": "https://localhost:8080/"
        },
        "id": "N0EpzBgAtssf",
        "outputId": "cef1c2ba-efcd-46fb-dc47-be047eb18090"
      },
      "source": [
        "evaluator = AlgorithmEvaluator(10, random_seed=69**2)\n",
        "algo = DummyFive()\n",
        "print(\"dificulty evaluation\")\n",
        "evaluator.evaluate(algo, X, y_diff)\n",
        "evaluator.print_summery()\n",
        " \n",
        "print()\n",
        "print(\"workload evaluation\")\n",
        "evaluator.evaluate(algo, X, y_wl)\n",
        "evaluator.print_summery()"
      ],
      "execution_count": 97,
      "outputs": [
        {
          "output_type": "stream",
          "text": [
            "dificulty evaluation\n",
            "fold                     AVG\n",
            "n_train                     \n",
            "n_test                      \n",
            "n_was_impossible           0\n",
            "mae                  2.15974\n",
            "rmse                  2.5443\n",
            "half_miss_rate      0.844848\n",
            "Name: 11, dtype: object\n",
            "\n",
            "workload evaluation\n",
            "fold                    AVG\n",
            "n_train                    \n",
            "n_test                     \n",
            "n_was_impossible          0\n",
            "mae                 1.99064\n",
            "rmse                2.37536\n",
            "half_miss_rate      0.81045\n",
            "Name: 11, dtype: object\n"
          ],
          "name": "stdout"
        }
      ]
    },
    {
      "cell_type": "markdown",
      "metadata": {
        "id": "myd9NPbNIQVv"
      },
      "source": [
        "# KNN\n",
        "KNN stands for K Nearest Neighbors. K is a parameter for the algorithm.\n",
        "\n",
        "In the user based version, we find the k most similar users to U that rated the course C, calculate the mean of their rating for C and return the result as the prediction.\n",
        "\n",
        "In the item based version (in our case course based), we find the k most similar courses to C that U rated, calculate the mean of ratings by U for those courses and return the result as the prediction.\n",
        "\n",
        "\n",
        "## similarity\n",
        "In order to use KNN, we have to define similarity beetween two users or courses. \n",
        "For the user case, similarity is a function $ S(U_1, U_2)$ that gets 2 users and return a number that indicates how similar they are.\n",
        "There are several common similarity functions like euclidean distance and manhattan distance, but the one we are going to use is [cosine similarity](https://en.wikipedia.org/wiki/Cosine_similarity).\n",
        "\n",
        "the cosine similarity beetweeen two vectors $\\mathbf{a} $ and $\\mathbf{b} $ is defined : \n",
        "\n",
        "$S(\\mathbf{a}, \\mathbf{b}) \n",
        "=  \\frac{\\mathbf{a}^T \\mathbf{b}}{||\\mathbf{a}|||\\bf{b}||} \n",
        "= \\frac{\\mathbf{a} \\cdot \\mathbf{b}}{||\\mathbf{a}|||\\mathbf{b}||}$\n",
        "\n",
        "It returns a number between -1 and 1 which represents the angel beetween the two vectors in space, its quite inituitive in 2D.\n",
        "\n",
        "But what are  the vectors in the case of two users? We could create a vector for each user for his ratings, but those vectors are going to be as long as the number of courses and sparce because each user rated a small fraction of the courses. Instead, we will calculate the similarity beetween two users in the common courses space. we will create vector for each of the two user where each component is his rating for a course they both rated. So the vector length will be the amount of common courses, this number will be defined as the support. Now we can define another parameter for the algorithm, the minimal support. 1 common course may be not enough to know for sure how two users are similar, therefore we might not want to use $U_1$ to predict $U_2$. \n",
        "\n",
        "Formaly for the user based case : Let $R_i$ be the set of courses rated by $U_i$, and $R_{i,k}$ the rating of $U_i$ to course k. Then:\n",
        "\n",
        "$S(U_i,U_j) = \\frac{\\sum_{k \\in  R_i \\cup R_j}R_{i,k} R_{j,k}}{\\sqrt{ \\sum_{k \\in  R_i \\cup R_j}R_{i,k}^2} \\sqrt{ \\sum_{k \\in  R_i \\cup R_j}R_{j,k}^2}}$\n",
        "\n",
        "It is defined if $R_i \\cup R_j > min\\_support$\n",
        "\n",
        "Luckily, we dont have to normalize the similarity becasue it is already normlized to [-1,1]. (well actualy to [0,1] since we dont have negative ratings (well actualy it cant be zero since we dont have a 0 rating)).\n",
        "\n",
        "The prediction for a student and acourse is simply the mean of the k most similar users rating for this course. If there aren't students with ratings to this course who also have at least $min_support$ common courses with the predicted student, then the prediction is impossible for this algorithm.\n",
        "\n",
        "Altough there is an efficient way to cumpute a similarity matrix that contains the similarity between every pari of users, we are not going to need it since we decided to optimize our algorithms to predict one user at a time therefore we only need a few similarities in each prediction."
      ]
    },
    {
      "cell_type": "code",
      "metadata": {
        "id": "-UbCA36aQc4x"
      },
      "source": [
        "class KNNGeneric(GenericAlgorithm): \r\n",
        "    def __init__(self, k=5, min_support=2):\r\n",
        "        assert(k>=1)\r\n",
        "        assert(min_support>=1)\r\n",
        "        super().__init__()\r\n",
        "\r\n",
        "        self.k = k\r\n",
        "        self.X = None\r\n",
        "        self.y = None\r\n",
        "        self.min_support = min_support\r\n",
        "\r\n",
        "    def train(self, X, y):\r\n",
        "        super().train(X, y)\r\n",
        "        self.X = X\r\n",
        "        self.y = y\r\n",
        "        # all the calculations are going to be done in predict\r\n",
        "    \r\n",
        "    def predict(self, x):\r\n",
        "        super().predict(x)"
      ],
      "execution_count": 98,
      "outputs": []
    },
    {
      "cell_type": "markdown",
      "metadata": {
        "id": "T2n6IDB4NmNG"
      },
      "source": [
        "### Implementation Of The User Based KNN:"
      ]
    },
    {
      "cell_type": "code",
      "metadata": {
        "id": "LHTfkD9KIaPs"
      },
      "source": [
        "class KNNUser(KNNGeneric): \r\n",
        "    def __init__(self, k=5,  min_support=2):\r\n",
        "        super().__init__(k, min_support)\r\n",
        "\r\n",
        "    def _cosine_similarity(self, user1, user2):\r\n",
        "            \"\"\"\r\n",
        "            compute the cosine similarity of two users using only courses they both\r\n",
        "            rated. in order to do that the users must have at least self.min_support\r\n",
        "            courses they both rated, otherwise None is returned.\r\n",
        "            \"\"\"\r\n",
        "            # find all ratings indices for each user:\r\n",
        "            u1_ratings_ind = np.where(self.X[:, 0] == user1)[0]\r\n",
        "            u2_ratings_ind = np.where(self.X[:, 0] == user2)[0]\r\n",
        "            X_u1 = self.X[u1_ratings_ind, :]\r\n",
        "            X_u2 = self.X[u2_ratings_ind, :]\r\n",
        "            y_u1 = self.y[u1_ratings_ind]\r\n",
        "            y_u2 = self.y[u2_ratings_ind]\r\n",
        "\r\n",
        "            # get the common courses and their indices in each users rating array\r\n",
        "            common_courses, u1_ind_common, u2_ind_common = np.intersect1d(X_u1[:,1],\r\n",
        "                                                                        X_u2[:,1],\r\n",
        "                                                                        assume_unique=True,\r\n",
        "                                                                        return_indices=True)\r\n",
        "            # check support is large enough:\r\n",
        "            if not len(common_courses) >= self.min_support:\r\n",
        "                return None\r\n",
        "\r\n",
        "            # create vectors for each user in the common courses space:\r\n",
        "            y_u1_common = y_u1[u1_ind_common]\r\n",
        "            y_u2_common = y_u2[u2_ind_common]\r\n",
        "                \r\n",
        "            # return cosine similarity in that space:\r\n",
        "            return np.inner(y_u1_common, y_u2_common) / (np.linalg.norm(y_u1_common)*\r\n",
        "                                                        np.linalg.norm(y_u2_common))\r\n",
        "            \r\n",
        "    def predict(self, x):\r\n",
        "        super().predict(x)\r\n",
        "        user, course = x[0], x[1]\r\n",
        "\r\n",
        "        if user not in X[:,0]:\r\n",
        "            print(\"user\", user, \"has no ratings in the train set\")\r\n",
        "            return None\r\n",
        "\r\n",
        "        # find all rating for this course and all the raters:\r\n",
        "        course_ratings_indices = np.where(self.X[:,1] == course)\r\n",
        "        X_course = self.X[course_ratings_indices, :][0]\r\n",
        "        y_course = self.y[course_ratings_indices]\r\n",
        "        users_rated_course = X_course[:, 0]\r\n",
        "        # the useres are sorted by their location on X_course and y_course\r\n",
        "\r\n",
        "        if len(users_rated_course) == 0:\r\n",
        "            return None\r\n",
        "\r\n",
        "        # compute similaritiy between predicted user and each of the users rated\r\n",
        "        # the course\r\n",
        "        cosine_sim_vectorized = np.vectorize(self._cosine_similarity)\r\n",
        "        similarities = cosine_sim_vectorized(users_rated_course, user)\r\n",
        "        \r\n",
        "        total_neighbors = len(similarities[similarities != None])\r\n",
        "        # print(similarities, total_neighbors)\r\n",
        "\r\n",
        "        if total_neighbors == 0:\r\n",
        "            # impossible to predict for this user\r\n",
        "            return None \r\n",
        "        elif total_neighbors <= self.k:\r\n",
        "            neighbors_indices = np.where(similarities != None)\r\n",
        "        else:\r\n",
        "            similarities[similarities == None] = -1\r\n",
        "            neighbors_indices = np.argpartition(similarities, -self.k)[-self.k:]\r\n",
        "            neighbors = users_rated_course[neighbors_indices]\r\n",
        "\r\n",
        "        return y_course[neighbors_indices].mean()"
      ],
      "execution_count": 99,
      "outputs": []
    },
    {
      "cell_type": "markdown",
      "metadata": {
        "id": "MzlXRg_-OTAj"
      },
      "source": [
        "Lets evaluate the algorithm with the same folds :"
      ]
    },
    {
      "cell_type": "code",
      "metadata": {
        "colab": {
          "base_uri": "https://localhost:8080/"
        },
        "id": "8eKkHuHzZP07",
        "outputId": "7fce3c3c-2310-4801-b821-2635dc1e2643"
      },
      "source": [
        "algo = KNNUser(k=5,min_support=2)\r\n",
        "evaluator.evaluate(algo, X, y_diff)\r\n",
        "print(\"difficulty:\")\r\n",
        "evaluator.print_summery()\r\n",
        "print()\r\n",
        "\r\n",
        "print(\"workload:\")\r\n",
        "evaluator.evaluate(algo, X, y_wl)\r\n",
        "evaluator.print_summery()"
      ],
      "execution_count": 118,
      "outputs": [
        {
          "output_type": "stream",
          "text": [
            "difficulty:\n",
            "fold                     AVG\n",
            "n_train                     \n",
            "n_test                      \n",
            "n_was_impossible         4.2\n",
            "mae                  1.47359\n",
            "rmse                 1.87815\n",
            "half_miss_rate      0.737527\n",
            "Name: 11, dtype: object\n",
            "\n",
            "workload:\n",
            "fold                     AVG\n",
            "n_train                     \n",
            "n_test                      \n",
            "n_was_impossible         4.2\n",
            "mae                  1.47977\n",
            "rmse                 1.87818\n",
            "half_miss_rate      0.719359\n",
            "Name: 11, dtype: object\n"
          ],
          "name": "stdout"
        }
      ]
    },
    {
      "cell_type": "markdown",
      "metadata": {
        "id": "oXw3aHfSOhen"
      },
      "source": [
        "We got a slightly better results then Mean Rating. Of course we will have to find the best parameters $k$ and $min\\_support$ but we will do it soon after a few improvments. We also notice that the amount of impossible prediction is slightly higher due to the $min\\_support$. Increasing the $min\\_support$ wil increase the number of impossible predictions."
      ]
    },
    {
      "cell_type": "markdown",
      "metadata": {
        "id": "75_4ZJFjw6cD"
      },
      "source": [
        "### Implementation Of The Item Based KNN\r\n",
        "This time we will look for similar courses for prediction.\r\n",
        "\r\n",
        "The item based approach works better for some application but it is not expected to work well for us. Users in our data tend to be more similar to some other user then items are to items. for example - users from the same faculty should be similar and have many neighbors."
      ]
    },
    {
      "cell_type": "code",
      "metadata": {
        "id": "yvntvavZZcva"
      },
      "source": [
        "class KNNCourse(KNNGeneric): \r\n",
        "    def __init__(self, k=5,  min_support=2):\r\n",
        "        super().__init__(k, min_support)\r\n",
        "\r\n",
        "    def _cosine_similarity(self, course1, course2):\r\n",
        "            \"\"\"\r\n",
        "            compute the cosine similarity of two courses using only users rated \r\n",
        "            them both. in order to do that the courses must have at least self.min_support\r\n",
        "            common users, otherwise None is returned.\r\n",
        "            \"\"\"\r\n",
        "            # find all ratings indices for each user:\r\n",
        "            c1_ratings_ind = np.where(self.X[:, 1] == course1)[0]\r\n",
        "            c2_ratings_ind = np.where(self.X[:, 1] == course2)[0]\r\n",
        "            X_c1 = self.X[c1_ratings_ind, :]\r\n",
        "            X_c2 = self.X[c2_ratings_ind, :]\r\n",
        "            y_c1 = self.y[c1_ratings_ind]\r\n",
        "            y_c2 = self.y[c2_ratings_ind]\r\n",
        "\r\n",
        "            # get the common users and their indices in each course rating array\r\n",
        "            common_users, c1_ind_common, c2_ind_common = np.intersect1d(X_c1[:,0],\r\n",
        "                                                                        X_c2[:,0],\r\n",
        "                                                                        assume_unique=True,\r\n",
        "                                                                        return_indices=True)\r\n",
        "            # check support is large enough:\r\n",
        "            if not len(common_users) >= self.min_support:\r\n",
        "                return None\r\n",
        "\r\n",
        "            # create vectors for each course in the common users space:\r\n",
        "            y_c1_common = y_c1[c1_ind_common]\r\n",
        "            y_c2_common = y_c2[c2_ind_common]\r\n",
        "                \r\n",
        "            # return cosine similarity in that space:\r\n",
        "            return np.inner(y_c1_common, y_c2_common) / (np.linalg.norm(y_c1_common)*\r\n",
        "                                                        np.linalg.norm(y_c2_common))\r\n",
        "            \r\n",
        "    def predict(self, x):\r\n",
        "        super().predict(x)\r\n",
        "        user, course = x[0], x[1]\r\n",
        "\r\n",
        "        if course not in X[:,1]:\r\n",
        "            print(\"course\", course, \"has no ratings in the train set\")\r\n",
        "            return None\r\n",
        "\r\n",
        "        # find all ratings by this user and all the courses he rated:\r\n",
        "        user_ratings_indices = np.where(self.X[:,0] == user)\r\n",
        "        X_user = self.X[user_ratings_indices, :][0]\r\n",
        "        y_user = self.y[user_ratings_indices]\r\n",
        "        courses_rated_by_user = X_user[:, 1]\r\n",
        "        # the courses are sorted by their location on X_user and y_user\r\n",
        "\r\n",
        "        if len(courses_rated_by_user) == 0:\r\n",
        "            return None\r\n",
        "\r\n",
        "        # compute similaritiy between predicted course and each of the courses \r\n",
        "        # rated by the user\r\n",
        "        cosine_sim_vectorized = np.vectorize(self._cosine_similarity)\r\n",
        "        similarities = cosine_sim_vectorized(courses_rated_by_user, course)\r\n",
        "\r\n",
        "        total_neighbors = len(similarities[similarities != None])\r\n",
        "\r\n",
        "        if total_neighbors == 0:\r\n",
        "            # impossible to predict for this user\r\n",
        "            return None \r\n",
        "        elif total_neighbors <= self.k:\r\n",
        "            neighbors_indices = np.where(similarities != None)\r\n",
        "        else:\r\n",
        "            similarities[similarities == None] = -1\r\n",
        "            neighbors_indices = np.argpartition(similarities, -self.k)[-self.k:]\r\n",
        "            # neighbors = courses_rated_by_user[neighbors_indices]\r\n",
        "\r\n",
        "        return y_user[neighbors_indices].mean()"
      ],
      "execution_count": 124,
      "outputs": []
    },
    {
      "cell_type": "code",
      "metadata": {
        "colab": {
          "base_uri": "https://localhost:8080/"
        },
        "id": "tS4guPQLfJzb",
        "outputId": "9d06b396-e88e-4b17-eae5-518d2cd71eaf"
      },
      "source": [
        "algo = KNNCourse(k=3, min_support=2)\r\n",
        "print(\"difficulty:\")\r\n",
        "evaluator.evaluate(algo, X, y_diff)\r\n",
        "evaluator.print_summery()\r\n",
        "print()\r\n",
        "\r\n",
        "print(\"workload:\")\r\n",
        "evaluator.evaluate(algo, X, y_wl)\r\n",
        "evaluator.print_summery()"
      ],
      "execution_count": 136,
      "outputs": [
        {
          "output_type": "stream",
          "text": [
            "difficulty:\n",
            "fold                     AVG\n",
            "n_train                     \n",
            "n_test                      \n",
            "n_was_impossible        11.6\n",
            "mae                  1.97308\n",
            "rmse                 2.43662\n",
            "half_miss_rate      0.813333\n",
            "Name: 11, dtype: object\n",
            "\n",
            "workload:\n",
            "fold                     AVG\n",
            "n_train                     \n",
            "n_test                      \n",
            "n_was_impossible        11.6\n",
            "mae                  2.05835\n",
            "rmse                 2.53287\n",
            "half_miss_rate      0.844673\n",
            "Name: 11, dtype: object\n"
          ],
          "name": "stdout"
        }
      ]
    },
    {
      "cell_type": "markdown",
      "metadata": {
        "id": "vhUWoJnCyKS0"
      },
      "source": [
        "We got poor results, just a little bit better then DummyFive and even worse then CourseMean. So we will stick with user based and try to improve it."
      ]
    },
    {
      "cell_type": "markdown",
      "metadata": {
        "id": "DWGxb5N6Mgtu"
      },
      "source": [
        "#TODO\n",
        " \n",
        "more:\n",
        " \n",
        "\n",
        "* weighted knn\n",
        "* choosing k?\n",
        "* normalize ratings?\n",
        "* in knn - maybe define a number of \"min support\" or use a weighted avrage of the support and nean based on support size\n",
        "* add bagging\n"
      ]
    }
  ]
}